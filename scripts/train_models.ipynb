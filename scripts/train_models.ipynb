{
 "cells": [
  {
   "cell_type": "code",
   "execution_count": 3,
   "metadata": {},
   "outputs": [],
   "source": [
    "import pandas as pd\n",
    "import numpy as np\n",
    "from tensorflow.keras.models import Sequential\n",
    "from tensorflow.keras.layers import Dense\n",
    "from sklearn.model_selection import train_test_split"
   ]
  },
  {
   "cell_type": "code",
   "execution_count": 4,
   "metadata": {},
   "outputs": [
    {
     "name": "stdout",
     "output_type": "stream",
     "text": [
      "Total Impressions (Merged 06-10): 8834027\n"
     ]
    }
   ],
   "source": [
    "\n",
    "\n",
    "# List of days to merge (06 to 10 for training)\n",
    "days = [\"06\", \"07\", \"08\", \"09\", \"10\"]\n",
    "\n",
    "# Initialize empty DataFrame for impressions\n",
    "df_imp = pd.DataFrame()\n",
    "\n",
    "# Load & merge impression logs from multiple days\n",
    "for day in days:\n",
    "    temp_imp = pd.read_csv(f\"/Users/adityarajtandon/Documents/RTB_MODEL/dataset/imp.{day}.txt\", sep=\"\\t\", header=None)\n",
    "    temp_imp.columns = [\"BidID\", \"Timestamp\", \"Logtype\", \"VisitorID\", \"UserAgent\", \"IP\",\n",
    "                        \"Region\", \"City\", \"AdExchange\", \"Domain\", \"URL\", \"AnonURLID\",\n",
    "                        \"AdslotID\", \"AdslotWidth\", \"AdslotHeight\", \"AdslotVisibility\",\n",
    "                        \"AdslotFormat\", \"AdslotFloorPrice\", \"CreativeID\", \"BiddingPrice\",\n",
    "                        \"PayingPrice\", \"KeypageURL\", \"AdvertiserID\", \"ExtraColumn\"]\n",
    "    \n",
    "    df_imp = pd.concat([df_imp, temp_imp], ignore_index=True)\n",
    "\n",
    "print(f\"Total Impressions (Merged 06-10): {len(df_imp)}\")\n"
   ]
  },
  {
   "cell_type": "code",
   "execution_count": 6,
   "metadata": {},
   "outputs": [
    {
     "name": "stdout",
     "output_type": "stream",
     "text": [
      "Total Clicks (Merged 06-10): 6778\n"
     ]
    }
   ],
   "source": [
    "# Initialize empty DataFrame for clicks\n",
    "df_clk = pd.DataFrame()\n",
    "\n",
    "# Load & merge click logs\n",
    "for day in days:\n",
    "    temp_clk = pd.read_csv(f\"/Users/adityarajtandon/Documents/RTB_MODEL/dataset/clk.{day}.txt\", sep=\"\\t\", header=None)[[0]]\n",
    "    temp_clk.columns = [\"BidID\"]\n",
    "    temp_clk[\"Clicked\"] = 1  # Label clicks as 1\n",
    "    df_clk = pd.concat([df_clk, temp_clk], ignore_index=True)\n",
    "\n",
    "print(f\"Total Clicks (Merged 06-10): {len(df_clk)}\")\n"
   ]
  },
  {
   "cell_type": "code",
   "execution_count": 7,
   "metadata": {},
   "outputs": [
    {
     "name": "stdout",
     "output_type": "stream",
     "text": [
      "Total Conversions (Merged 06-10): 327\n"
     ]
    }
   ],
   "source": [
    "# Initialize empty DataFrame for conversions\n",
    "df_conv = pd.DataFrame()\n",
    "\n",
    "# Load & merge conversion logs\n",
    "for day in days:\n",
    "    temp_conv = pd.read_csv(f\"/Users/adityarajtandon/Documents/RTB_MODEL/dataset/conv.{day}.txt\", sep=\"\\t\", header=None)[[0]]\n",
    "    temp_conv.columns = [\"BidID\"]\n",
    "    temp_conv[\"Converted\"] = 1  # Label conversions as 1\n",
    "    df_conv = pd.concat([df_conv, temp_conv], ignore_index=True)\n",
    "\n",
    "print(f\"Total Conversions (Merged 06-10): {len(df_conv)}\")\n"
   ]
  },
  {
   "cell_type": "code",
   "execution_count": 8,
   "metadata": {},
   "outputs": [
    {
     "name": "stdout",
     "output_type": "stream",
     "text": [
      "Total Impressions: 8834903\n",
      "Total Clicks: 6945.0\n",
      "Total Conversions: 493.0\n"
     ]
    }
   ],
   "source": [
    "# Merge Clicks & Conversions with Impressions\n",
    "df_imp = df_imp.merge(df_clk, on=\"BidID\", how=\"left\").fillna(0)\n",
    "df_imp = df_imp.merge(df_conv, on=\"BidID\", how=\"left\").fillna(0)\n",
    "\n",
    "# Final dataset summary\n",
    "print(f\"Total Impressions: {len(df_imp)}\")\n",
    "print(f\"Total Clicks: {df_imp['Clicked'].sum()}\")\n",
    "print(f\"Total Conversions: {df_imp['Converted'].sum()}\")\n"
   ]
  },
  {
   "cell_type": "code",
   "execution_count": 9,
   "metadata": {},
   "outputs": [
    {
     "data": {
      "text/html": [
       "<div>\n",
       "<style scoped>\n",
       "    .dataframe tbody tr th:only-of-type {\n",
       "        vertical-align: middle;\n",
       "    }\n",
       "\n",
       "    .dataframe tbody tr th {\n",
       "        vertical-align: top;\n",
       "    }\n",
       "\n",
       "    .dataframe thead th {\n",
       "        text-align: right;\n",
       "    }\n",
       "</style>\n",
       "<table border=\"1\" class=\"dataframe\">\n",
       "  <thead>\n",
       "    <tr style=\"text-align: right;\">\n",
       "      <th></th>\n",
       "      <th>BidID</th>\n",
       "      <th>Timestamp</th>\n",
       "      <th>Logtype</th>\n",
       "      <th>VisitorID</th>\n",
       "      <th>UserAgent</th>\n",
       "      <th>IP</th>\n",
       "      <th>Region</th>\n",
       "      <th>City</th>\n",
       "      <th>AdExchange</th>\n",
       "      <th>Domain</th>\n",
       "      <th>...</th>\n",
       "      <th>AdslotFormat</th>\n",
       "      <th>AdslotFloorPrice</th>\n",
       "      <th>CreativeID</th>\n",
       "      <th>BiddingPrice</th>\n",
       "      <th>PayingPrice</th>\n",
       "      <th>KeypageURL</th>\n",
       "      <th>AdvertiserID</th>\n",
       "      <th>ExtraColumn</th>\n",
       "      <th>Clicked</th>\n",
       "      <th>Converted</th>\n",
       "    </tr>\n",
       "  </thead>\n",
       "  <tbody>\n",
       "    <tr>\n",
       "      <th>0</th>\n",
       "      <td>8a15b98c8f9e60d4f92aaab01acf52a4</td>\n",
       "      <td>20130606000104192</td>\n",
       "      <td>1</td>\n",
       "      <td>VhTVORqG36N6qMj</td>\n",
       "      <td>Mozilla/5.0 (Windows NT 5.1) AppleWebKit/537.1...</td>\n",
       "      <td>114.100.37.*</td>\n",
       "      <td>106</td>\n",
       "      <td>117</td>\n",
       "      <td>1</td>\n",
       "      <td>lsxSl559Xql7FmMs</td>\n",
       "      <td>...</td>\n",
       "      <td>1</td>\n",
       "      <td>0</td>\n",
       "      <td>23d6dade7ed21cea308205b37594003e</td>\n",
       "      <td>227</td>\n",
       "      <td>207</td>\n",
       "      <td>b2e35064f3549d447edbbdfb1f707c8c</td>\n",
       "      <td>3427</td>\n",
       "      <td>10063,10684,10083,13403,10059,10024,10048,1005...</td>\n",
       "      <td>0.0</td>\n",
       "      <td>0.0</td>\n",
       "    </tr>\n",
       "    <tr>\n",
       "      <th>1</th>\n",
       "      <td>5bd0cbeb2f82fb94e56b7dc2e6b77ec</td>\n",
       "      <td>20130606000104252</td>\n",
       "      <td>1</td>\n",
       "      <td>Vhkr1uaROqKsXmb</td>\n",
       "      <td>Mozilla/4.0 (compatible; MSIE 7.0; Windows NT ...</td>\n",
       "      <td>222.220.35.*</td>\n",
       "      <td>308</td>\n",
       "      <td>320</td>\n",
       "      <td>2</td>\n",
       "      <td>eSMvBpa0jqmUagk4JKTI</td>\n",
       "      <td>...</td>\n",
       "      <td>0</td>\n",
       "      <td>5</td>\n",
       "      <td>13606a7c541dcd9ca1948875a760bb31</td>\n",
       "      <td>238</td>\n",
       "      <td>72</td>\n",
       "      <td>d29e59bf0f7f8243858b8183f14d4412</td>\n",
       "      <td>3358</td>\n",
       "      <td>13800,10024</td>\n",
       "      <td>0.0</td>\n",
       "      <td>0.0</td>\n",
       "    </tr>\n",
       "    <tr>\n",
       "      <th>2</th>\n",
       "      <td>faf17eac9cabf1be598f4e75f40d501d</td>\n",
       "      <td>20130606000104253</td>\n",
       "      <td>1</td>\n",
       "      <td>VhL01pk8OTkW3Mc</td>\n",
       "      <td>Mozilla/5.0 (Windows NT 5.1) AppleWebKit/537.1...</td>\n",
       "      <td>58.100.240.*</td>\n",
       "      <td>94</td>\n",
       "      <td>95</td>\n",
       "      <td>1</td>\n",
       "      <td>tK1NTu1YP5scFsf</td>\n",
       "      <td>...</td>\n",
       "      <td>1</td>\n",
       "      <td>0</td>\n",
       "      <td>d5cecca9a6cbd7a0a48110f1306b26d1</td>\n",
       "      <td>227</td>\n",
       "      <td>108</td>\n",
       "      <td>d29e59bf0f7f8243858b8183f14d4412</td>\n",
       "      <td>3358</td>\n",
       "      <td>10059,13866,10063,10111</td>\n",
       "      <td>0.0</td>\n",
       "      <td>0.0</td>\n",
       "    </tr>\n",
       "    <tr>\n",
       "      <th>3</th>\n",
       "      <td>234870d3864ad1852fe04b172f340be3</td>\n",
       "      <td>20130606000104308</td>\n",
       "      <td>1</td>\n",
       "      <td>VhT3La5uDlaywOj</td>\n",
       "      <td>Mozilla/5.0 (Windows NT 5.1) AppleWebKit/537.1...</td>\n",
       "      <td>122.233.40.*</td>\n",
       "      <td>94</td>\n",
       "      <td>95</td>\n",
       "      <td>1</td>\n",
       "      <td>trqRTummPvas1m58uG</td>\n",
       "      <td>...</td>\n",
       "      <td>1</td>\n",
       "      <td>0</td>\n",
       "      <td>44966cc8da1ed40c95d59e863c8c75f0</td>\n",
       "      <td>300</td>\n",
       "      <td>81</td>\n",
       "      <td>361e128affece850342293213691a043</td>\n",
       "      <td>3386</td>\n",
       "      <td>10057,10063,10024,13800,13866,10110</td>\n",
       "      <td>0.0</td>\n",
       "      <td>0.0</td>\n",
       "    </tr>\n",
       "    <tr>\n",
       "      <th>4</th>\n",
       "      <td>20fb85784972aebed3dda8d20ca87afb</td>\n",
       "      <td>20130606000104329</td>\n",
       "      <td>1</td>\n",
       "      <td>VhkSPnNDP8L8eYl</td>\n",
       "      <td>Opera/9.80 (Android; Opera Mini/7.7.33548/29.3...</td>\n",
       "      <td>58.67.157.*</td>\n",
       "      <td>216</td>\n",
       "      <td>217</td>\n",
       "      <td>1</td>\n",
       "      <td>trqRTuS8jZL7FmMs</td>\n",
       "      <td>...</td>\n",
       "      <td>5</td>\n",
       "      <td>0</td>\n",
       "      <td>d881a6c788e76c2c27ed1ef04f119544</td>\n",
       "      <td>227</td>\n",
       "      <td>89</td>\n",
       "      <td>d29e59bf0f7f8243858b8183f14d4412</td>\n",
       "      <td>3358</td>\n",
       "      <td>13866,10111</td>\n",
       "      <td>0.0</td>\n",
       "      <td>0.0</td>\n",
       "    </tr>\n",
       "  </tbody>\n",
       "</table>\n",
       "<p>5 rows × 26 columns</p>\n",
       "</div>"
      ],
      "text/plain": [
       "                              BidID          Timestamp  Logtype  \\\n",
       "0  8a15b98c8f9e60d4f92aaab01acf52a4  20130606000104192        1   \n",
       "1   5bd0cbeb2f82fb94e56b7dc2e6b77ec  20130606000104252        1   \n",
       "2  faf17eac9cabf1be598f4e75f40d501d  20130606000104253        1   \n",
       "3  234870d3864ad1852fe04b172f340be3  20130606000104308        1   \n",
       "4  20fb85784972aebed3dda8d20ca87afb  20130606000104329        1   \n",
       "\n",
       "         VisitorID                                          UserAgent  \\\n",
       "0  VhTVORqG36N6qMj  Mozilla/5.0 (Windows NT 5.1) AppleWebKit/537.1...   \n",
       "1  Vhkr1uaROqKsXmb  Mozilla/4.0 (compatible; MSIE 7.0; Windows NT ...   \n",
       "2  VhL01pk8OTkW3Mc  Mozilla/5.0 (Windows NT 5.1) AppleWebKit/537.1...   \n",
       "3  VhT3La5uDlaywOj  Mozilla/5.0 (Windows NT 5.1) AppleWebKit/537.1...   \n",
       "4  VhkSPnNDP8L8eYl  Opera/9.80 (Android; Opera Mini/7.7.33548/29.3...   \n",
       "\n",
       "             IP  Region  City  AdExchange                Domain  ...  \\\n",
       "0  114.100.37.*     106   117           1      lsxSl559Xql7FmMs  ...   \n",
       "1  222.220.35.*     308   320           2  eSMvBpa0jqmUagk4JKTI  ...   \n",
       "2  58.100.240.*      94    95           1       tK1NTu1YP5scFsf  ...   \n",
       "3  122.233.40.*      94    95           1    trqRTummPvas1m58uG  ...   \n",
       "4   58.67.157.*     216   217           1      trqRTuS8jZL7FmMs  ...   \n",
       "\n",
       "  AdslotFormat  AdslotFloorPrice                        CreativeID  \\\n",
       "0            1                 0  23d6dade7ed21cea308205b37594003e   \n",
       "1            0                 5  13606a7c541dcd9ca1948875a760bb31   \n",
       "2            1                 0  d5cecca9a6cbd7a0a48110f1306b26d1   \n",
       "3            1                 0  44966cc8da1ed40c95d59e863c8c75f0   \n",
       "4            5                 0  d881a6c788e76c2c27ed1ef04f119544   \n",
       "\n",
       "   BiddingPrice  PayingPrice                        KeypageURL  AdvertiserID  \\\n",
       "0           227          207  b2e35064f3549d447edbbdfb1f707c8c          3427   \n",
       "1           238           72  d29e59bf0f7f8243858b8183f14d4412          3358   \n",
       "2           227          108  d29e59bf0f7f8243858b8183f14d4412          3358   \n",
       "3           300           81  361e128affece850342293213691a043          3386   \n",
       "4           227           89  d29e59bf0f7f8243858b8183f14d4412          3358   \n",
       "\n",
       "                                         ExtraColumn Clicked  Converted  \n",
       "0  10063,10684,10083,13403,10059,10024,10048,1005...     0.0        0.0  \n",
       "1                                        13800,10024     0.0        0.0  \n",
       "2                            10059,13866,10063,10111     0.0        0.0  \n",
       "3                10057,10063,10024,13800,13866,10110     0.0        0.0  \n",
       "4                                        13866,10111     0.0        0.0  \n",
       "\n",
       "[5 rows x 26 columns]"
      ]
     },
     "execution_count": 9,
     "metadata": {},
     "output_type": "execute_result"
    }
   ],
   "source": [
    "df_imp.head()"
   ]
  },
  {
   "cell_type": "code",
   "execution_count": 10,
   "metadata": {},
   "outputs": [
    {
     "name": "stdout",
     "output_type": "stream",
     "text": [
      "Total Impressions (Merged 11-12): 3403060\n"
     ]
    }
   ],
   "source": [
    "\n",
    "\n",
    "# List of days to merge (06 to 10 for training)\n",
    "days = [\"11\",\"12\"]\n",
    "\n",
    "# Initialize empty DataFrame for impressions\n",
    "df_val = pd.DataFrame()\n",
    "\n",
    "# Load & merge impression logs from multiple days\n",
    "for day in days:\n",
    "    temp_val = pd.read_csv(f\"/Users/adityarajtandon/Documents/RTB_MODEL/dataset/imp.{day}.txt\", sep=\"\\t\", header=None)\n",
    "    temp_val.columns = [\"BidID\", \"Timestamp\", \"Logtype\", \"VisitorID\", \"UserAgent\", \"IP\",\n",
    "                        \"Region\", \"City\", \"AdExchange\", \"Domain\", \"URL\", \"AnonURLID\",\n",
    "                        \"AdslotID\", \"AdslotWidth\", \"AdslotHeight\", \"AdslotVisibility\",\n",
    "                        \"AdslotFormat\", \"AdslotFloorPrice\", \"CreativeID\", \"BiddingPrice\",\n",
    "                        \"PayingPrice\", \"KeypageURL\", \"AdvertiserID\", \"ExtraColumn\"]\n",
    "    \n",
    "    df_val = pd.concat([df_val, temp_val], ignore_index=True)\n",
    "\n",
    "print(f\"Total Impressions (Merged 11-12): {len(df_val)}\")\n"
   ]
  },
  {
   "cell_type": "code",
   "execution_count": 11,
   "metadata": {},
   "outputs": [
    {
     "name": "stdout",
     "output_type": "stream",
     "text": [
      "Total Clicks (Merged 11-12): 3200\n"
     ]
    }
   ],
   "source": [
    "# Initialize empty DataFrame for clicks\n",
    "df_clk = pd.DataFrame()\n",
    "\n",
    "# Load & merge click logs\n",
    "for day in days:\n",
    "    temp_clk = pd.read_csv(f\"/Users/adityarajtandon/Documents/RTB_MODEL/dataset/clk.{day}.txt\", sep=\"\\t\", header=None)[[0]]\n",
    "    temp_clk.columns = [\"BidID\"]\n",
    "    temp_clk[\"Clicked\"] = 1  # Label clicks as 1\n",
    "    df_clk = pd.concat([df_clk, temp_clk], ignore_index=True)\n",
    "\n",
    "print(f\"Total Clicks (Merged 11-12): {len(df_clk)}\")"
   ]
  },
  {
   "cell_type": "code",
   "execution_count": 12,
   "metadata": {},
   "outputs": [
    {
     "name": "stdout",
     "output_type": "stream",
     "text": [
      "Total Conversions (Merged 11-12): 167\n"
     ]
    }
   ],
   "source": [
    "# Initialize empty DataFrame for conversions\n",
    "df_conv = pd.DataFrame()\n",
    "\n",
    "# Load & merge conversion logs\n",
    "for day in days:\n",
    "    temp_conv = pd.read_csv(f\"/Users/adityarajtandon/Documents/RTB_MODEL/dataset/conv.{day}.txt\", sep=\"\\t\", header=None)[[0]]\n",
    "    temp_conv.columns = [\"BidID\"]\n",
    "    temp_conv[\"Converted\"] = 1  # Label conversions as 1\n",
    "    df_conv = pd.concat([df_conv, temp_conv], ignore_index=True)\n",
    "\n",
    "print(f\"Total Conversions (Merged 11-12): {len(df_conv)}\")\n"
   ]
  },
  {
   "cell_type": "code",
   "execution_count": 13,
   "metadata": {},
   "outputs": [
    {
     "name": "stdout",
     "output_type": "stream",
     "text": [
      "Total Impressions: 3403564\n",
      "Total Clicks: 3265.0\n",
      "Total Conversions: 248.0\n"
     ]
    }
   ],
   "source": [
    "# Merge Clicks & Conversions with Impressions\n",
    "df_val = df_val.merge(df_clk, on=\"BidID\", how=\"left\").fillna(0)\n",
    "df_val = df_val.merge(df_conv, on=\"BidID\", how=\"left\").fillna(0)\n",
    "\n",
    "# Final dataset summary\n",
    "print(f\"Total Impressions: {len(df_val)}\")\n",
    "print(f\"Total Clicks: {df_val['Clicked'].sum()}\")\n",
    "print(f\"Total Conversions: {df_val['Converted'].sum()}\")\n"
   ]
  },
  {
   "cell_type": "code",
   "execution_count": 14,
   "metadata": {},
   "outputs": [],
   "source": [
    "# Finalize Features\n",
    "features = [\"AdslotWidth\", \"AdslotHeight\", \"Region\", \"City\", \"AdExchange\", \"AdslotVisibility\", \"AdslotFormat\", \"AdslotFloorPrice\"]\n",
    "\n",
    "X_train = df_imp[features]\n",
    "y_ctr_train = df_imp[\"Clicked\"]\n",
    "y_cvr_train = df_imp[df_imp[\"Clicked\"] == 1][\"Converted\"]\n",
    "\n",
    "# Validation Data\n",
    "X_val = df_val[features]\n",
    "y_ctr_val = df_val[\"Clicked\"]\n",
    "y_cvr_val = df_val[df_val[\"Clicked\"] == 1][\"Converted\"]\n",
    "\n",
    "# Handle missing values for market price prediction and \n",
    "y_market_train = df_imp[\"PayingPrice\"].fillna(df_imp[\"PayingPrice\"].mean())\n",
    "y_market_val = df_val[\"PayingPrice\"].fillna(df_val[\"PayingPrice\"].mean())\n"
   ]
  },
  {
   "cell_type": "code",
   "execution_count": 15,
   "metadata": {},
   "outputs": [],
   "source": [
    "from tensorflow.keras.models import Sequential\n",
    "from tensorflow.keras.layers import Dense\n",
    "from tensorflow.keras.optimizers import Adam\n",
    "\n",
    "def build_ctr_cvr_model():\n",
    "    \"\"\"Define CTR and CVR prediction models.\"\"\"\n",
    "    model = Sequential([\n",
    "        Dense(128, activation=\"relu\", input_shape=(X_train.shape[1],)),\n",
    "        Dense(64, activation=\"relu\"),\n",
    "        Dense(32, activation=\"relu\"),\n",
    "        Dense(1, activation=\"sigmoid\")  # Probabilistic output\n",
    "    ])\n",
    "    model.compile(optimizer=Adam(learning_rate=0.001), loss=\"binary_crossentropy\", metrics=[\"accuracy\"])\n",
    "    return model\n"
   ]
  },
  {
   "cell_type": "code",
   "execution_count": 16,
   "metadata": {},
   "outputs": [],
   "source": [
    "def build_market_model():\n",
    "    \"\"\"Define market price prediction model.\"\"\"\n",
    "    model = Sequential([\n",
    "        Dense(128, activation=\"relu\", input_shape=(X_train.shape[1],)),\n",
    "        Dense(64, activation=\"relu\"),\n",
    "        Dense(32, activation=\"relu\"),\n",
    "        Dense(1, activation=\"linear\")  # Regression output\n",
    "    ])\n",
    "    model.compile(optimizer=Adam(learning_rate=0.001), loss=\"mean_squared_error\")\n",
    "    return model\n"
   ]
  },
  {
   "cell_type": "code",
   "execution_count": 17,
   "metadata": {},
   "outputs": [],
   "source": [
    "#make a temp dataframe to store df_imp\n",
    "df_temp = df_imp.copy()"
   ]
  },
  {
   "cell_type": "code",
   "execution_count": 43,
   "metadata": {},
   "outputs": [
    {
     "name": "stdout",
     "output_type": "stream",
     "text": [
      "{0: 'unknown', 1: 'beijing', 2: 'tianjin', 3: 'hebei', 15: 'shanxi', 27: 'neimenggu', 40: 'liaoning', 55: 'jilin', 65: 'heilongjiang', 79: 'shanghai', 80: 'jiangsu', 94: 'zhejiang', 106: 'anhui', 124: 'fujian', 134: 'jiangxi', 146: 'shandong', 164: 'henan', 183: 'hubei', 201: 'hunan', 216: 'guangdong', 238: 'guangxi', 253: 'hainan', 275: 'chongqing', 276: 'sichuan', 298: 'guizhou', 308: 'yunnan', 325: 'xizang', 333: 'shannxi', 344: 'gansu', 359: 'qinghai', 368: 'ningxia', 374: 'xinjiang', 393: 'taiwan', 394: 'xianggang', 395: 'aomen'}\n",
      "{0: 'unknown', 4: 'shijiazhuang', 5: 'tangshan', 6: 'qinhuangdao', 7: 'handan', 8: 'xingtai', 9: 'baoding', 10: 'zhangjiakou', 11: 'chengde', 12: 'cangzhou', 13: 'langfang', 14: 'hengshui', 16: 'taiyuan', 17: 'datong', 18: 'yangquan', 19: 'changzhi', 20: 'jincheng', 21: 'shuozhou', 22: 'jinzhongshi', 23: 'yuncheng', 24: 'xinzhou', 25: 'linfen', 26: 'lvliang', 28: 'huhehaote', 29: 'baotou', 30: 'wuhai', 31: 'chifeng', 32: 'tongliao', 33: 'eerduosi', 34: 'hulunbeier', 35: 'bayannaoer', 36: 'wulanchabu', 37: 'xingan', 38: 'xilinguole', 39: 'alashan', 41: 'shenyang', 42: 'dalian', 43: 'anshan', 44: 'fushun', 45: 'benxi', 46: 'dandong', 47: 'jinzhou', 48: 'yingkou', 49: 'fuxin', 50: 'liaoyang', 51: 'panjin', 52: 'tieling', 53: 'chaoyang', 54: 'huludao', 56: 'changchun', 57: 'jilin_city', 58: 'siping', 59: 'liaoyuan', 60: 'tonghua', 61: 'baishan', 62: 'songyuan', 63: 'baicheng', 64: 'yanbian', 66: 'haerbin', 67: 'qiqihaer', 68: 'jixi', 69: 'hegang', 70: 'shuangyashan', 71: 'daqing', 72: 'yichun_65', 73: 'jiamusi', 74: 'qitaihe', 75: 'mudanjiang', 76: 'heihe', 77: 'suihua', 78: 'daxinganling', 81: 'nanjing', 82: 'wuxi', 83: 'xuzhou', 84: 'changzhou', 85: 'suzhou_jiangsu', 86: 'nantong', 87: 'lianyungang', 88: 'huaian', 89: 'yancheng', 90: 'yangzhou', 91: 'zhenjiang', 92: 'taizhou_jiangsu', 93: 'suqian', 95: 'hangzhou', 96: 'ningbo', 97: 'wenzhou', 98: 'jiaxing', 99: 'huzhou', 100: 'shaoxing', 101: 'jinhua', 102: 'quzhou', 103: 'zhoushan', 104: 'taizhou', 105: 'lishui', 107: 'hefei', 108: 'wuhu', 109: 'bangbu', 110: 'huainan', 111: 'maanshan', 112: 'huaibei', 113: 'tongling', 114: 'anqing', 115: 'huangshan', 116: 'chuzhou', 117: 'fuyang', 118: 'suzhou', 119: 'chaohu', 120: 'liuan', 121: 'bozhou', 122: 'chizhou', 123: 'xuancheng', 125: 'fuzhou_124', 126: 'xiamen', 127: 'putian', 128: 'sanming', 129: 'quanzhou', 130: 'zhangzhou', 131: 'nanping', 132: 'longyan', 133: 'ningde', 135: 'nanchang', 136: 'jingdezhen', 137: 'pingxiang', 138: 'jiujiang', 139: 'xinyu', 140: 'yingtan', 141: 'ganzhou', 142: 'jian', 143: 'yichun_134', 144: 'fuzhou_134', 145: 'shangrao', 147: 'jinan', 148: 'qingdao', 149: 'zibo', 150: 'zaozhuang', 151: 'dongying', 152: 'yantai', 153: 'weifang', 154: 'jining', 155: 'taian', 156: 'weihai', 157: 'rizhao', 158: 'laiwu', 159: 'linyi', 160: 'dezhou', 161: 'liaocheng', 162: 'binzhou', 163: 'heze', 165: 'zhengzhou', 166: 'kaifeng', 167: 'luoyang', 168: 'pingdingshan', 169: 'anyang', 170: 'hebi', 171: 'xinxiang', 172: 'jiaozuo', 173: 'puyang', 174: 'xuchang', 175: 'luohe', 176: 'sanmenxia', 177: 'nanyang', 178: 'shangqiu', 179: 'xinyang', 180: 'zhoukou', 181: 'zhumadian', 182: 'jiyuan', 184: 'wuhan', 185: 'huangshi', 186: 'shiyan', 187: 'yichang', 188: 'xiangfan', 189: 'ezhou', 190: 'jingmen', 191: 'xiaogan', 192: 'jingzhou', 193: 'huanggang', 194: 'xianning', 195: 'suizhou', 196: 'enshishi', 197: 'xiantao', 198: 'qianjiang', 199: 'tianmen', 200: 'shennongjia', 202: 'changsha', 203: 'zhuzhou', 204: 'xiangtan', 205: 'hengyang', 206: 'shaoyang', 207: 'yueyang', 208: 'changde', 209: 'zhangjiajie', 210: 'yiyang', 211: 'chenzhou', 212: 'yongzhou', 213: 'huaihua', 214: 'loudi', 215: 'xiangxi', 217: 'guangzhou', 218: 'shaoguan', 219: 'shenzhen', 220: 'zhuhai', 221: 'shantou', 222: 'foshan', 223: 'jiangmen', 224: 'zhanjiang', 225: 'maoming', 226: 'zhaoqing', 227: 'huizhou', 228: 'meizhou', 229: 'shanwei', 230: 'heyuan', 231: 'yangjiang', 232: 'qingyuan', 233: 'dongguan', 234: 'zhongshan', 235: 'chaozhou', 236: 'jieyang', 237: 'yunfu', 239: 'nanning', 240: 'liuzhou', 241: 'guilin', 242: 'wuzhou', 243: 'beihai', 244: 'fangchenggang', 245: 'qinzhou', 246: 'guigang', 247: 'yulin_238', 248: 'baise', 249: 'hezhou', 250: 'hechi', 251: 'laibin', 252: 'chongzuo', 254: 'haikou', 255: 'sanya', 256: 'wuzhishan', 257: 'qionghai', 258: 'danzhou', 259: 'wenchang', 260: 'wanning', 261: 'dongfang', 262: 'dingan', 263: 'tunchang', 264: 'chengmai', 265: 'lingao', 266: 'baisha', 267: 'changjiang', 268: 'ledong', 269: 'lingshui', 270: 'baoting', 271: 'qiongzhong', 272: 'xisha', 273: 'nansha', 274: 'zhongsha', 277: 'chengdu', 278: 'zigong', 279: 'panzhihua', 280: 'luzhou', 281: 'deyang', 282: 'mianyang', 283: 'guangyuan', 284: 'suining', 285: 'neijiang', 286: 'leshan', 287: 'nanchong', 288: 'meishan', 289: 'yibin', 290: 'guangan', 291: 'dazhou', 292: 'yaan', 293: 'bazhong', 294: 'ziyang', 295: 'aba', 296: 'ganzi', 297: 'liangshan', 299: 'guiyang', 300: 'liupanshui', 301: 'zunyi', 302: 'anshun', 303: 'tongren', 304: 'qianxinan', 305: 'bijie', 306: 'qiandongnan', 307: 'qiannan', 309: 'kunming', 310: 'qujing', 311: 'yuxi', 312: 'baoshan', 313: 'zhaotong', 314: 'lijiang', 315: 'puer', 316: 'lincang', 317: 'chuxiong', 318: 'honghe', 319: 'wenshan', 320: 'xishuangbanna', 321: 'dali', 322: 'dehong', 323: 'nujiang', 324: 'diqing', 326: 'lasa', 327: 'changdu', 328: 'shannan', 329: 'rikaze', 330: 'naqu', 331: 'ali', 332: 'linzhi', 334: 'xian', 335: 'tongzhou', 336: 'baoji', 337: 'xianyang', 338: 'weinan', 339: 'yanan', 340: 'hanzhong', 341: 'yulin_333', 342: 'ankang', 343: 'shangluo', 345: 'lanzhou', 346: 'jiayuguan', 347: 'jinchang', 348: 'baiyin', 349: 'tianshui', 350: 'wuwei', 351: 'zhangye', 352: 'pingliang', 353: 'jiuquan', 354: 'qingyang', 355: 'dingxi', 356: 'longnan', 357: 'linxia', 358: 'gannan', 360: 'xining', 361: 'haidong', 362: 'haibei', 363: 'huangnan', 364: 'hainanzangzu', 365: 'guoluo', 366: 'yushu', 367: 'haixi', 369: 'yinchuan', 370: 'shizuishan', 371: 'wuzhong', 372: 'guyuan', 373: 'zhongwei', 375: 'wulumuqi', 376: 'kelamayi', 377: 'tulufan', 378: 'hami', 379: 'changji', 380: 'boertala', 381: 'bayinguoleng', 382: 'akesu', 383: 'kezilesukeerkezi', 384: 'kashi', 385: 'hetian', 386: 'yili', 387: 'tacheng', 388: 'aletai', 389: 'shihezi', 390: 'alaer', 391: 'tumushuke', 392: 'wujiaqu'}\n"
     ]
    }
   ],
   "source": [
    "# Load region and city mappings\n",
    "region_mapping = pd.read_csv(\"/Users/adityarajtandon/Documents/RTB_MODEL/dataset/region.txt\", sep=\"\\t\", header=None, names=[\"RegionCode\", \"RegionName\"])\n",
    "city_mapping = pd.read_csv(\"/Users/adityarajtandon/Documents/RTB_MODEL/dataset/city.txt\", sep=\"\\t\", header=None, names=[\"CityCode\", \"CityName\"])\n",
    "\n",
    "# Create dictionaries for mapping\n",
    "region_dict = dict(zip(region_mapping[\"RegionCode\"], region_mapping[\"RegionName\"]))\n",
    "city_dict = dict(zip(city_mapping[\"CityCode\"], city_mapping[\"CityName\"]))\n",
    "# Print a preview to verify mappings\n",
    "print(region_dict)\n",
    "print(city_dict)\n",
    "# Replace codes with names in the original columns\n",
    "df_imp[\"Region\"] = df_imp[\"Region\"].map(region_dict)\n",
    "df_imp[\"City\"] = df_imp[\"City\"].map(city_dict)\n",
    "\n",
    "# Print a preview to verify changes\n",
    "\n"
   ]
  },
  {
   "cell_type": "code",
   "execution_count": 44,
   "metadata": {},
   "outputs": [
    {
     "name": "stdout",
     "output_type": "stream",
     "text": [
      "{0: 'unknown', 1: 'beijing', 2: 'tianjin', 3: 'hebei', 15: 'shanxi', 27: 'neimenggu', 40: 'liaoning', 55: 'jilin', 65: 'heilongjiang', 79: 'shanghai', 80: 'jiangsu', 94: 'zhejiang', 106: 'anhui', 124: 'fujian', 134: 'jiangxi', 146: 'shandong', 164: 'henan', 183: 'hubei', 201: 'hunan', 216: 'guangdong', 238: 'guangxi', 253: 'hainan', 275: 'chongqing', 276: 'sichuan', 298: 'guizhou', 308: 'yunnan', 325: 'xizang', 333: 'shannxi', 344: 'gansu', 359: 'qinghai', 368: 'ningxia', 374: 'xinjiang', 393: 'taiwan', 394: 'xianggang', 395: 'aomen'}\n",
      "{0: 'unknown', 4: 'shijiazhuang', 5: 'tangshan', 6: 'qinhuangdao', 7: 'handan', 8: 'xingtai', 9: 'baoding', 10: 'zhangjiakou', 11: 'chengde', 12: 'cangzhou', 13: 'langfang', 14: 'hengshui', 16: 'taiyuan', 17: 'datong', 18: 'yangquan', 19: 'changzhi', 20: 'jincheng', 21: 'shuozhou', 22: 'jinzhongshi', 23: 'yuncheng', 24: 'xinzhou', 25: 'linfen', 26: 'lvliang', 28: 'huhehaote', 29: 'baotou', 30: 'wuhai', 31: 'chifeng', 32: 'tongliao', 33: 'eerduosi', 34: 'hulunbeier', 35: 'bayannaoer', 36: 'wulanchabu', 37: 'xingan', 38: 'xilinguole', 39: 'alashan', 41: 'shenyang', 42: 'dalian', 43: 'anshan', 44: 'fushun', 45: 'benxi', 46: 'dandong', 47: 'jinzhou', 48: 'yingkou', 49: 'fuxin', 50: 'liaoyang', 51: 'panjin', 52: 'tieling', 53: 'chaoyang', 54: 'huludao', 56: 'changchun', 57: 'jilin_city', 58: 'siping', 59: 'liaoyuan', 60: 'tonghua', 61: 'baishan', 62: 'songyuan', 63: 'baicheng', 64: 'yanbian', 66: 'haerbin', 67: 'qiqihaer', 68: 'jixi', 69: 'hegang', 70: 'shuangyashan', 71: 'daqing', 72: 'yichun_65', 73: 'jiamusi', 74: 'qitaihe', 75: 'mudanjiang', 76: 'heihe', 77: 'suihua', 78: 'daxinganling', 81: 'nanjing', 82: 'wuxi', 83: 'xuzhou', 84: 'changzhou', 85: 'suzhou_jiangsu', 86: 'nantong', 87: 'lianyungang', 88: 'huaian', 89: 'yancheng', 90: 'yangzhou', 91: 'zhenjiang', 92: 'taizhou_jiangsu', 93: 'suqian', 95: 'hangzhou', 96: 'ningbo', 97: 'wenzhou', 98: 'jiaxing', 99: 'huzhou', 100: 'shaoxing', 101: 'jinhua', 102: 'quzhou', 103: 'zhoushan', 104: 'taizhou', 105: 'lishui', 107: 'hefei', 108: 'wuhu', 109: 'bangbu', 110: 'huainan', 111: 'maanshan', 112: 'huaibei', 113: 'tongling', 114: 'anqing', 115: 'huangshan', 116: 'chuzhou', 117: 'fuyang', 118: 'suzhou', 119: 'chaohu', 120: 'liuan', 121: 'bozhou', 122: 'chizhou', 123: 'xuancheng', 125: 'fuzhou_124', 126: 'xiamen', 127: 'putian', 128: 'sanming', 129: 'quanzhou', 130: 'zhangzhou', 131: 'nanping', 132: 'longyan', 133: 'ningde', 135: 'nanchang', 136: 'jingdezhen', 137: 'pingxiang', 138: 'jiujiang', 139: 'xinyu', 140: 'yingtan', 141: 'ganzhou', 142: 'jian', 143: 'yichun_134', 144: 'fuzhou_134', 145: 'shangrao', 147: 'jinan', 148: 'qingdao', 149: 'zibo', 150: 'zaozhuang', 151: 'dongying', 152: 'yantai', 153: 'weifang', 154: 'jining', 155: 'taian', 156: 'weihai', 157: 'rizhao', 158: 'laiwu', 159: 'linyi', 160: 'dezhou', 161: 'liaocheng', 162: 'binzhou', 163: 'heze', 165: 'zhengzhou', 166: 'kaifeng', 167: 'luoyang', 168: 'pingdingshan', 169: 'anyang', 170: 'hebi', 171: 'xinxiang', 172: 'jiaozuo', 173: 'puyang', 174: 'xuchang', 175: 'luohe', 176: 'sanmenxia', 177: 'nanyang', 178: 'shangqiu', 179: 'xinyang', 180: 'zhoukou', 181: 'zhumadian', 182: 'jiyuan', 184: 'wuhan', 185: 'huangshi', 186: 'shiyan', 187: 'yichang', 188: 'xiangfan', 189: 'ezhou', 190: 'jingmen', 191: 'xiaogan', 192: 'jingzhou', 193: 'huanggang', 194: 'xianning', 195: 'suizhou', 196: 'enshishi', 197: 'xiantao', 198: 'qianjiang', 199: 'tianmen', 200: 'shennongjia', 202: 'changsha', 203: 'zhuzhou', 204: 'xiangtan', 205: 'hengyang', 206: 'shaoyang', 207: 'yueyang', 208: 'changde', 209: 'zhangjiajie', 210: 'yiyang', 211: 'chenzhou', 212: 'yongzhou', 213: 'huaihua', 214: 'loudi', 215: 'xiangxi', 217: 'guangzhou', 218: 'shaoguan', 219: 'shenzhen', 220: 'zhuhai', 221: 'shantou', 222: 'foshan', 223: 'jiangmen', 224: 'zhanjiang', 225: 'maoming', 226: 'zhaoqing', 227: 'huizhou', 228: 'meizhou', 229: 'shanwei', 230: 'heyuan', 231: 'yangjiang', 232: 'qingyuan', 233: 'dongguan', 234: 'zhongshan', 235: 'chaozhou', 236: 'jieyang', 237: 'yunfu', 239: 'nanning', 240: 'liuzhou', 241: 'guilin', 242: 'wuzhou', 243: 'beihai', 244: 'fangchenggang', 245: 'qinzhou', 246: 'guigang', 247: 'yulin_238', 248: 'baise', 249: 'hezhou', 250: 'hechi', 251: 'laibin', 252: 'chongzuo', 254: 'haikou', 255: 'sanya', 256: 'wuzhishan', 257: 'qionghai', 258: 'danzhou', 259: 'wenchang', 260: 'wanning', 261: 'dongfang', 262: 'dingan', 263: 'tunchang', 264: 'chengmai', 265: 'lingao', 266: 'baisha', 267: 'changjiang', 268: 'ledong', 269: 'lingshui', 270: 'baoting', 271: 'qiongzhong', 272: 'xisha', 273: 'nansha', 274: 'zhongsha', 277: 'chengdu', 278: 'zigong', 279: 'panzhihua', 280: 'luzhou', 281: 'deyang', 282: 'mianyang', 283: 'guangyuan', 284: 'suining', 285: 'neijiang', 286: 'leshan', 287: 'nanchong', 288: 'meishan', 289: 'yibin', 290: 'guangan', 291: 'dazhou', 292: 'yaan', 293: 'bazhong', 294: 'ziyang', 295: 'aba', 296: 'ganzi', 297: 'liangshan', 299: 'guiyang', 300: 'liupanshui', 301: 'zunyi', 302: 'anshun', 303: 'tongren', 304: 'qianxinan', 305: 'bijie', 306: 'qiandongnan', 307: 'qiannan', 309: 'kunming', 310: 'qujing', 311: 'yuxi', 312: 'baoshan', 313: 'zhaotong', 314: 'lijiang', 315: 'puer', 316: 'lincang', 317: 'chuxiong', 318: 'honghe', 319: 'wenshan', 320: 'xishuangbanna', 321: 'dali', 322: 'dehong', 323: 'nujiang', 324: 'diqing', 326: 'lasa', 327: 'changdu', 328: 'shannan', 329: 'rikaze', 330: 'naqu', 331: 'ali', 332: 'linzhi', 334: 'xian', 335: 'tongzhou', 336: 'baoji', 337: 'xianyang', 338: 'weinan', 339: 'yanan', 340: 'hanzhong', 341: 'yulin_333', 342: 'ankang', 343: 'shangluo', 345: 'lanzhou', 346: 'jiayuguan', 347: 'jinchang', 348: 'baiyin', 349: 'tianshui', 350: 'wuwei', 351: 'zhangye', 352: 'pingliang', 353: 'jiuquan', 354: 'qingyang', 355: 'dingxi', 356: 'longnan', 357: 'linxia', 358: 'gannan', 360: 'xining', 361: 'haidong', 362: 'haibei', 363: 'huangnan', 364: 'hainanzangzu', 365: 'guoluo', 366: 'yushu', 367: 'haixi', 369: 'yinchuan', 370: 'shizuishan', 371: 'wuzhong', 372: 'guyuan', 373: 'zhongwei', 375: 'wulumuqi', 376: 'kelamayi', 377: 'tulufan', 378: 'hami', 379: 'changji', 380: 'boertala', 381: 'bayinguoleng', 382: 'akesu', 383: 'kezilesukeerkezi', 384: 'kashi', 385: 'hetian', 386: 'yili', 387: 'tacheng', 388: 'aletai', 389: 'shihezi', 390: 'alaer', 391: 'tumushuke', 392: 'wujiaqu'}\n"
     ]
    }
   ],
   "source": [
    "print(region_dict)\n",
    "print(city_dict)"
   ]
  },
  {
   "cell_type": "code",
   "execution_count": 47,
   "metadata": {},
   "outputs": [
    {
     "name": "stdout",
     "output_type": "stream",
     "text": [
      "{0: 'unknown', 1: 'beijing', 2: 'tianjin', 3: 'hebei', 15: 'shanxi', 27: 'neimenggu', 40: 'liaoning', 55: 'jilin', 65: 'heilongjiang', 79: 'shanghai', 80: 'jiangsu', 94: 'zhejiang', 106: 'anhui', 124: 'fujian', 134: 'jiangxi', 146: 'shandong', 164: 'henan', 183: 'hubei', 201: 'hunan', 216: 'guangdong', 238: 'guangxi', 253: 'hainan', 275: 'chongqing', 276: 'sichuan', 298: 'guizhou', 308: 'yunnan', 325: 'xizang', 333: 'shannxi', 344: 'gansu', 359: 'qinghai', 368: 'ningxia', 374: 'xinjiang', 393: 'taiwan', 394: 'xianggang', 395: 'aomen'}\n",
      "{0: 'unknown', 4: 'shijiazhuang', 5: 'tangshan', 6: 'qinhuangdao', 7: 'handan', 8: 'xingtai', 9: 'baoding', 10: 'zhangjiakou', 11: 'chengde', 12: 'cangzhou', 13: 'langfang', 14: 'hengshui', 16: 'taiyuan', 17: 'datong', 18: 'yangquan', 19: 'changzhi', 20: 'jincheng', 21: 'shuozhou', 22: 'jinzhongshi', 23: 'yuncheng', 24: 'xinzhou', 25: 'linfen', 26: 'lvliang', 28: 'huhehaote', 29: 'baotou', 30: 'wuhai', 31: 'chifeng', 32: 'tongliao', 33: 'eerduosi', 34: 'hulunbeier', 35: 'bayannaoer', 36: 'wulanchabu', 37: 'xingan', 38: 'xilinguole', 39: 'alashan', 41: 'shenyang', 42: 'dalian', 43: 'anshan', 44: 'fushun', 45: 'benxi', 46: 'dandong', 47: 'jinzhou', 48: 'yingkou', 49: 'fuxin', 50: 'liaoyang', 51: 'panjin', 52: 'tieling', 53: 'chaoyang', 54: 'huludao', 56: 'changchun', 57: 'jilin_city', 58: 'siping', 59: 'liaoyuan', 60: 'tonghua', 61: 'baishan', 62: 'songyuan', 63: 'baicheng', 64: 'yanbian', 66: 'haerbin', 67: 'qiqihaer', 68: 'jixi', 69: 'hegang', 70: 'shuangyashan', 71: 'daqing', 72: 'yichun_65', 73: 'jiamusi', 74: 'qitaihe', 75: 'mudanjiang', 76: 'heihe', 77: 'suihua', 78: 'daxinganling', 81: 'nanjing', 82: 'wuxi', 83: 'xuzhou', 84: 'changzhou', 85: 'suzhou_jiangsu', 86: 'nantong', 87: 'lianyungang', 88: 'huaian', 89: 'yancheng', 90: 'yangzhou', 91: 'zhenjiang', 92: 'taizhou_jiangsu', 93: 'suqian', 95: 'hangzhou', 96: 'ningbo', 97: 'wenzhou', 98: 'jiaxing', 99: 'huzhou', 100: 'shaoxing', 101: 'jinhua', 102: 'quzhou', 103: 'zhoushan', 104: 'taizhou', 105: 'lishui', 107: 'hefei', 108: 'wuhu', 109: 'bangbu', 110: 'huainan', 111: 'maanshan', 112: 'huaibei', 113: 'tongling', 114: 'anqing', 115: 'huangshan', 116: 'chuzhou', 117: 'fuyang', 118: 'suzhou', 119: 'chaohu', 120: 'liuan', 121: 'bozhou', 122: 'chizhou', 123: 'xuancheng', 125: 'fuzhou_124', 126: 'xiamen', 127: 'putian', 128: 'sanming', 129: 'quanzhou', 130: 'zhangzhou', 131: 'nanping', 132: 'longyan', 133: 'ningde', 135: 'nanchang', 136: 'jingdezhen', 137: 'pingxiang', 138: 'jiujiang', 139: 'xinyu', 140: 'yingtan', 141: 'ganzhou', 142: 'jian', 143: 'yichun_134', 144: 'fuzhou_134', 145: 'shangrao', 147: 'jinan', 148: 'qingdao', 149: 'zibo', 150: 'zaozhuang', 151: 'dongying', 152: 'yantai', 153: 'weifang', 154: 'jining', 155: 'taian', 156: 'weihai', 157: 'rizhao', 158: 'laiwu', 159: 'linyi', 160: 'dezhou', 161: 'liaocheng', 162: 'binzhou', 163: 'heze', 165: 'zhengzhou', 166: 'kaifeng', 167: 'luoyang', 168: 'pingdingshan', 169: 'anyang', 170: 'hebi', 171: 'xinxiang', 172: 'jiaozuo', 173: 'puyang', 174: 'xuchang', 175: 'luohe', 176: 'sanmenxia', 177: 'nanyang', 178: 'shangqiu', 179: 'xinyang', 180: 'zhoukou', 181: 'zhumadian', 182: 'jiyuan', 184: 'wuhan', 185: 'huangshi', 186: 'shiyan', 187: 'yichang', 188: 'xiangfan', 189: 'ezhou', 190: 'jingmen', 191: 'xiaogan', 192: 'jingzhou', 193: 'huanggang', 194: 'xianning', 195: 'suizhou', 196: 'enshishi', 197: 'xiantao', 198: 'qianjiang', 199: 'tianmen', 200: 'shennongjia', 202: 'changsha', 203: 'zhuzhou', 204: 'xiangtan', 205: 'hengyang', 206: 'shaoyang', 207: 'yueyang', 208: 'changde', 209: 'zhangjiajie', 210: 'yiyang', 211: 'chenzhou', 212: 'yongzhou', 213: 'huaihua', 214: 'loudi', 215: 'xiangxi', 217: 'guangzhou', 218: 'shaoguan', 219: 'shenzhen', 220: 'zhuhai', 221: 'shantou', 222: 'foshan', 223: 'jiangmen', 224: 'zhanjiang', 225: 'maoming', 226: 'zhaoqing', 227: 'huizhou', 228: 'meizhou', 229: 'shanwei', 230: 'heyuan', 231: 'yangjiang', 232: 'qingyuan', 233: 'dongguan', 234: 'zhongshan', 235: 'chaozhou', 236: 'jieyang', 237: 'yunfu', 239: 'nanning', 240: 'liuzhou', 241: 'guilin', 242: 'wuzhou', 243: 'beihai', 244: 'fangchenggang', 245: 'qinzhou', 246: 'guigang', 247: 'yulin_238', 248: 'baise', 249: 'hezhou', 250: 'hechi', 251: 'laibin', 252: 'chongzuo', 254: 'haikou', 255: 'sanya', 256: 'wuzhishan', 257: 'qionghai', 258: 'danzhou', 259: 'wenchang', 260: 'wanning', 261: 'dongfang', 262: 'dingan', 263: 'tunchang', 264: 'chengmai', 265: 'lingao', 266: 'baisha', 267: 'changjiang', 268: 'ledong', 269: 'lingshui', 270: 'baoting', 271: 'qiongzhong', 272: 'xisha', 273: 'nansha', 274: 'zhongsha', 277: 'chengdu', 278: 'zigong', 279: 'panzhihua', 280: 'luzhou', 281: 'deyang', 282: 'mianyang', 283: 'guangyuan', 284: 'suining', 285: 'neijiang', 286: 'leshan', 287: 'nanchong', 288: 'meishan', 289: 'yibin', 290: 'guangan', 291: 'dazhou', 292: 'yaan', 293: 'bazhong', 294: 'ziyang', 295: 'aba', 296: 'ganzi', 297: 'liangshan', 299: 'guiyang', 300: 'liupanshui', 301: 'zunyi', 302: 'anshun', 303: 'tongren', 304: 'qianxinan', 305: 'bijie', 306: 'qiandongnan', 307: 'qiannan', 309: 'kunming', 310: 'qujing', 311: 'yuxi', 312: 'baoshan', 313: 'zhaotong', 314: 'lijiang', 315: 'puer', 316: 'lincang', 317: 'chuxiong', 318: 'honghe', 319: 'wenshan', 320: 'xishuangbanna', 321: 'dali', 322: 'dehong', 323: 'nujiang', 324: 'diqing', 326: 'lasa', 327: 'changdu', 328: 'shannan', 329: 'rikaze', 330: 'naqu', 331: 'ali', 332: 'linzhi', 334: 'xian', 335: 'tongzhou', 336: 'baoji', 337: 'xianyang', 338: 'weinan', 339: 'yanan', 340: 'hanzhong', 341: 'yulin_333', 342: 'ankang', 343: 'shangluo', 345: 'lanzhou', 346: 'jiayuguan', 347: 'jinchang', 348: 'baiyin', 349: 'tianshui', 350: 'wuwei', 351: 'zhangye', 352: 'pingliang', 353: 'jiuquan', 354: 'qingyang', 355: 'dingxi', 356: 'longnan', 357: 'linxia', 358: 'gannan', 360: 'xining', 361: 'haidong', 362: 'haibei', 363: 'huangnan', 364: 'hainanzangzu', 365: 'guoluo', 366: 'yushu', 367: 'haixi', 369: 'yinchuan', 370: 'shizuishan', 371: 'wuzhong', 372: 'guyuan', 373: 'zhongwei', 375: 'wulumuqi', 376: 'kelamayi', 377: 'tulufan', 378: 'hami', 379: 'changji', 380: 'boertala', 381: 'bayinguoleng', 382: 'akesu', 383: 'kezilesukeerkezi', 384: 'kashi', 385: 'hetian', 386: 'yili', 387: 'tacheng', 388: 'aletai', 389: 'shihezi', 390: 'alaer', 391: 'tumushuke', 392: 'wujiaqu'}\n"
     ]
    }
   ],
   "source": [
    "# Load region and city mappings\n",
    "region_mapping = pd.read_csv(\"/Users/adityarajtandon/Documents/RTB_MODEL/dataset/region.txt\", sep=\"\\t\", header=None, names=[\"RegionCode\", \"RegionName\"])\n",
    "city_mapping = pd.read_csv(\"/Users/adityarajtandon/Documents/RTB_MODEL/dataset/city.txt\", sep=\"\\t\", header=None, names=[\"CityCode\", \"CityName\"])\n",
    "\n",
    "# Create dictionaries for mapping\n",
    "region_dict = dict(zip(region_mapping[\"RegionCode\"], region_mapping[\"RegionName\"]))\n",
    "city_dict = dict(zip(city_mapping[\"CityCode\"], city_mapping[\"CityName\"]))\n",
    "# Print a preview to verify mappings\n",
    "print(region_dict)\n",
    "print(city_dict)\n",
    "# Replace codes with names in the original columns\n",
    "df_val[\"Region\"] = df_val[\"Region\"].map(region_dict)\n",
    "df_val[\"City\"] = df_val[\"City\"].map(city_dict)\n",
    "\n",
    "# Print a preview to verify changes\n",
    "\n"
   ]
  },
  {
   "cell_type": "code",
   "execution_count": 48,
   "metadata": {},
   "outputs": [
    {
     "name": "stdout",
     "output_type": "stream",
     "text": [
      "0             daqing\n",
      "1            baoding\n",
      "2            unknown\n",
      "3          guangzhou\n",
      "4            jingmen\n",
      "             ...    \n",
      "3403559      unknown\n",
      "3403560        wuhan\n",
      "3403561    guangzhou\n",
      "3403562      kunming\n",
      "3403563     quanzhou\n",
      "Name: City, Length: 3403564, dtype: object\n",
      "0          heilongjiang\n",
      "1                 hebei\n",
      "2               unknown\n",
      "3             guangdong\n",
      "4                 hubei\n",
      "               ...     \n",
      "3403559         unknown\n",
      "3403560           hubei\n",
      "3403561       guangdong\n",
      "3403562          yunnan\n",
      "3403563          fujian\n",
      "Name: Region, Length: 3403564, dtype: object\n"
     ]
    }
   ],
   "source": [
    "#print city and region of df_val\n",
    "print(df_val[\"City\"])\n",
    "print(df_val[\"Region\"])"
   ]
  },
  {
   "cell_type": "code",
   "execution_count": 50,
   "metadata": {},
   "outputs": [
    {
     "name": "stdout",
     "output_type": "stream",
     "text": [
      "Index(['BidID', 'Timestamp', 'Logtype', 'VisitorID', 'UserAgent', 'IP',\n",
      "       'Region', 'City', 'AdExchange', 'Domain', 'URL', 'AnonURLID',\n",
      "       'AdslotID', 'AdslotWidth', 'AdslotHeight', 'AdslotVisibility',\n",
      "       'AdslotFormat', 'AdslotFloorPrice', 'CreativeID', 'BiddingPrice',\n",
      "       'PayingPrice', 'KeypageURL', 'AdvertiserID', 'ExtraColumn', 'Clicked',\n",
      "       'Converted'],\n",
      "      dtype='object')\n"
     ]
    }
   ],
   "source": [
    "#print column names of df_imp\n",
    "print(df_imp.columns)"
   ]
  },
  {
   "cell_type": "code",
   "execution_count": 19,
   "metadata": {},
   "outputs": [
    {
     "name": "stderr",
     "output_type": "stream",
     "text": [
      "WARNING:absl:At this time, the v2.11+ optimizer `tf.keras.optimizers.Adam` runs slowly on M1/M2 Macs, please use the legacy Keras optimizer instead, located at `tf.keras.optimizers.legacy.Adam`.\n",
      "WARNING:absl:There is a known slowdown when using v2.11+ Keras optimizers on M1/M2 Macs. Falling back to the legacy Keras optimizer, i.e., `tf.keras.optimizers.legacy.Adam`.\n"
     ]
    },
    {
     "name": "stdout",
     "output_type": "stream",
     "text": [
      "Epoch 1/7\n",
      "17256/17256 [==============================] - 16s 894us/step - loss: 0.0081 - accuracy: 0.9992 - val_loss: 0.0077 - val_accuracy: 0.9990\n",
      "Epoch 2/7\n",
      "17256/17256 [==============================] - 15s 870us/step - loss: 0.0065 - accuracy: 0.9992 - val_loss: 0.0075 - val_accuracy: 0.9990\n",
      "Epoch 3/7\n",
      "17256/17256 [==============================] - 15s 873us/step - loss: 0.0064 - accuracy: 0.9992 - val_loss: 0.0074 - val_accuracy: 0.9990\n",
      "Epoch 4/7\n",
      "17256/17256 [==============================] - 15s 873us/step - loss: 0.0063 - accuracy: 0.9992 - val_loss: 0.0074 - val_accuracy: 0.9990\n",
      "Epoch 5/7\n",
      "17256/17256 [==============================] - 15s 858us/step - loss: 0.0063 - accuracy: 0.9992 - val_loss: 0.0074 - val_accuracy: 0.9990\n",
      "Epoch 6/7\n",
      "17256/17256 [==============================] - 14s 833us/step - loss: 0.0063 - accuracy: 0.9992 - val_loss: 0.0074 - val_accuracy: 0.9990\n",
      "Epoch 7/7\n",
      "17256/17256 [==============================] - 16s 923us/step - loss: 0.0063 - accuracy: 0.9992 - val_loss: 0.0074 - val_accuracy: 0.9990\n"
     ]
    },
    {
     "name": "stderr",
     "output_type": "stream",
     "text": [
      "/opt/miniconda3/envs/py39/lib/python3.9/site-packages/keras/src/engine/training.py:3000: UserWarning: You are saving your model as an HDF5 file via `model.save()`. This file format is considered legacy. We recommend using instead the native Keras format, e.g. `model.save('my_model.keras')`.\n",
      "  saving_api.save_model(\n"
     ]
    }
   ],
   "source": [
    "dnn_ctr = build_ctr_cvr_model()\n",
    "dnn_ctr.fit(X_train, y_ctr_train, epochs=7, batch_size=512, validation_data=(X_val, y_ctr_val))\n",
    "dnn_ctr.save(\"/Users/adityarajtandon/Documents/RTB_MODEL/models/dnn_ctr_model.h5\")\n"
   ]
  },
  {
   "cell_type": "code",
   "execution_count": 20,
   "metadata": {},
   "outputs": [
    {
     "name": "stderr",
     "output_type": "stream",
     "text": [
      "WARNING:absl:At this time, the v2.11+ optimizer `tf.keras.optimizers.Adam` runs slowly on M1/M2 Macs, please use the legacy Keras optimizer instead, located at `tf.keras.optimizers.legacy.Adam`.\n",
      "WARNING:absl:There is a known slowdown when using v2.11+ Keras optimizers on M1/M2 Macs. Falling back to the legacy Keras optimizer, i.e., `tf.keras.optimizers.legacy.Adam`.\n"
     ]
    },
    {
     "name": "stdout",
     "output_type": "stream",
     "text": [
      "Epoch 1/7\n",
      "14/14 [==============================] - 0s 5ms/step - loss: 5.0342 - accuracy: 0.8553 - val_loss: 5.0361 - val_accuracy: 0.9240\n",
      "Epoch 2/7\n",
      "14/14 [==============================] - 0s 2ms/step - loss: 2.5072 - accuracy: 0.8793 - val_loss: 1.5570 - val_accuracy: 0.9234\n",
      "Epoch 3/7\n",
      "14/14 [==============================] - 0s 2ms/step - loss: 0.8083 - accuracy: 0.8752 - val_loss: 0.4748 - val_accuracy: 0.9234\n",
      "Epoch 4/7\n",
      "14/14 [==============================] - 0s 2ms/step - loss: 0.4085 - accuracy: 0.9159 - val_loss: 0.3467 - val_accuracy: 0.9231\n",
      "Epoch 5/7\n",
      "14/14 [==============================] - 0s 2ms/step - loss: 0.2996 - accuracy: 0.9179 - val_loss: 0.3005 - val_accuracy: 0.9231\n",
      "Epoch 6/7\n",
      "14/14 [==============================] - 0s 2ms/step - loss: 0.2595 - accuracy: 0.9280 - val_loss: 0.3054 - val_accuracy: 0.9234\n",
      "Epoch 7/7\n",
      "14/14 [==============================] - 0s 2ms/step - loss: 0.2508 - accuracy: 0.9284 - val_loss: 0.2851 - val_accuracy: 0.9228\n"
     ]
    },
    {
     "name": "stderr",
     "output_type": "stream",
     "text": [
      "/opt/miniconda3/envs/py39/lib/python3.9/site-packages/keras/src/engine/training.py:3000: UserWarning: You are saving your model as an HDF5 file via `model.save()`. This file format is considered legacy. We recommend using instead the native Keras format, e.g. `model.save('my_model.keras')`.\n",
      "  saving_api.save_model(\n"
     ]
    }
   ],
   "source": [
    "dnn_cvr = build_ctr_cvr_model()\n",
    "dnn_cvr.fit(X_train[y_ctr_train == 1], y_cvr_train, epochs=7, batch_size=512, validation_data=(X_val[y_ctr_val == 1], y_cvr_val))\n",
    "dnn_cvr.save(\"models/dnn_cvr_model.h5\")\n"
   ]
  },
  {
   "cell_type": "code",
   "execution_count": 22,
   "metadata": {},
   "outputs": [
    {
     "name": "stderr",
     "output_type": "stream",
     "text": [
      "WARNING:absl:At this time, the v2.11+ optimizer `tf.keras.optimizers.Adam` runs slowly on M1/M2 Macs, please use the legacy Keras optimizer instead, located at `tf.keras.optimizers.legacy.Adam`.\n",
      "WARNING:absl:There is a known slowdown when using v2.11+ Keras optimizers on M1/M2 Macs. Falling back to the legacy Keras optimizer, i.e., `tf.keras.optimizers.legacy.Adam`.\n"
     ]
    },
    {
     "name": "stdout",
     "output_type": "stream",
     "text": [
      "Epoch 1/15\n",
      "17206/17256 [============================>.] - ETA: 0s - loss: 2752.4109"
     ]
    },
    {
     "ename": "KeyboardInterrupt",
     "evalue": "",
     "output_type": "error",
     "traceback": [
      "\u001b[0;31m---------------------------------------------------------------------------\u001b[0m",
      "\u001b[0;31mKeyboardInterrupt\u001b[0m                         Traceback (most recent call last)",
      "Cell \u001b[0;32mIn[22], line 11\u001b[0m\n\u001b[1;32m      9\u001b[0m y_market_val \u001b[38;5;241m=\u001b[39m df_val[\u001b[38;5;124m\"\u001b[39m\u001b[38;5;124mPayingPrice\u001b[39m\u001b[38;5;124m\"\u001b[39m]\u001b[38;5;241m.\u001b[39mfillna(\u001b[38;5;241m0\u001b[39m)\n\u001b[1;32m     10\u001b[0m dnn_market \u001b[38;5;241m=\u001b[39m build_market_model()\n\u001b[0;32m---> 11\u001b[0m \u001b[43mdnn_market\u001b[49m\u001b[38;5;241;43m.\u001b[39;49m\u001b[43mfit\u001b[49m\u001b[43m(\u001b[49m\u001b[43mX_train_scaled\u001b[49m\u001b[43m,\u001b[49m\u001b[43m \u001b[49m\u001b[43my_market_train\u001b[49m\u001b[43m,\u001b[49m\u001b[43m \u001b[49m\u001b[43mepochs\u001b[49m\u001b[38;5;241;43m=\u001b[39;49m\u001b[38;5;241;43m15\u001b[39;49m\u001b[43m,\u001b[49m\u001b[43m \u001b[49m\u001b[43mbatch_size\u001b[49m\u001b[38;5;241;43m=\u001b[39;49m\u001b[38;5;241;43m512\u001b[39;49m\u001b[43m,\u001b[49m\u001b[43m \u001b[49m\u001b[43mvalidation_data\u001b[49m\u001b[38;5;241;43m=\u001b[39;49m\u001b[43m(\u001b[49m\u001b[43mX_val_scaled\u001b[49m\u001b[43m,\u001b[49m\u001b[43m \u001b[49m\u001b[43my_market_val\u001b[49m\u001b[43m)\u001b[49m\u001b[43m)\u001b[49m\n\u001b[1;32m     12\u001b[0m dnn_market\u001b[38;5;241m.\u001b[39msave(\u001b[38;5;124m\"\u001b[39m\u001b[38;5;124m/Users/adityarajtandon/Documents/RTB_MODEL/models/dnn_market_model.h5\u001b[39m\u001b[38;5;124m\"\u001b[39m)\n",
      "File \u001b[0;32m/opt/miniconda3/envs/py39/lib/python3.9/site-packages/keras/src/utils/traceback_utils.py:65\u001b[0m, in \u001b[0;36mfilter_traceback.<locals>.error_handler\u001b[0;34m(*args, **kwargs)\u001b[0m\n\u001b[1;32m     63\u001b[0m filtered_tb \u001b[38;5;241m=\u001b[39m \u001b[38;5;28;01mNone\u001b[39;00m\n\u001b[1;32m     64\u001b[0m \u001b[38;5;28;01mtry\u001b[39;00m:\n\u001b[0;32m---> 65\u001b[0m     \u001b[38;5;28;01mreturn\u001b[39;00m \u001b[43mfn\u001b[49m\u001b[43m(\u001b[49m\u001b[38;5;241;43m*\u001b[39;49m\u001b[43margs\u001b[49m\u001b[43m,\u001b[49m\u001b[43m \u001b[49m\u001b[38;5;241;43m*\u001b[39;49m\u001b[38;5;241;43m*\u001b[39;49m\u001b[43mkwargs\u001b[49m\u001b[43m)\u001b[49m\n\u001b[1;32m     66\u001b[0m \u001b[38;5;28;01mexcept\u001b[39;00m \u001b[38;5;167;01mException\u001b[39;00m \u001b[38;5;28;01mas\u001b[39;00m e:\n\u001b[1;32m     67\u001b[0m     filtered_tb \u001b[38;5;241m=\u001b[39m _process_traceback_frames(e\u001b[38;5;241m.\u001b[39m__traceback__)\n",
      "File \u001b[0;32m/opt/miniconda3/envs/py39/lib/python3.9/site-packages/keras/src/engine/training.py:1791\u001b[0m, in \u001b[0;36mModel.fit\u001b[0;34m(self, x, y, batch_size, epochs, verbose, callbacks, validation_split, validation_data, shuffle, class_weight, sample_weight, initial_epoch, steps_per_epoch, validation_steps, validation_batch_size, validation_freq, max_queue_size, workers, use_multiprocessing)\u001b[0m\n\u001b[1;32m   1775\u001b[0m \u001b[38;5;28;01mif\u001b[39;00m \u001b[38;5;28mgetattr\u001b[39m(\u001b[38;5;28mself\u001b[39m, \u001b[38;5;124m\"\u001b[39m\u001b[38;5;124m_eval_data_handler\u001b[39m\u001b[38;5;124m\"\u001b[39m, \u001b[38;5;28;01mNone\u001b[39;00m) \u001b[38;5;129;01mis\u001b[39;00m \u001b[38;5;28;01mNone\u001b[39;00m:\n\u001b[1;32m   1776\u001b[0m     \u001b[38;5;28mself\u001b[39m\u001b[38;5;241m.\u001b[39m_eval_data_handler \u001b[38;5;241m=\u001b[39m data_adapter\u001b[38;5;241m.\u001b[39mget_data_handler(\n\u001b[1;32m   1777\u001b[0m         x\u001b[38;5;241m=\u001b[39mval_x,\n\u001b[1;32m   1778\u001b[0m         y\u001b[38;5;241m=\u001b[39mval_y,\n\u001b[0;32m   (...)\u001b[0m\n\u001b[1;32m   1789\u001b[0m         pss_evaluation_shards\u001b[38;5;241m=\u001b[39m\u001b[38;5;28mself\u001b[39m\u001b[38;5;241m.\u001b[39m_pss_evaluation_shards,\n\u001b[1;32m   1790\u001b[0m     )\n\u001b[0;32m-> 1791\u001b[0m val_logs \u001b[38;5;241m=\u001b[39m \u001b[38;5;28;43mself\u001b[39;49m\u001b[38;5;241;43m.\u001b[39;49m\u001b[43mevaluate\u001b[49m\u001b[43m(\u001b[49m\n\u001b[1;32m   1792\u001b[0m \u001b[43m    \u001b[49m\u001b[43mx\u001b[49m\u001b[38;5;241;43m=\u001b[39;49m\u001b[43mval_x\u001b[49m\u001b[43m,\u001b[49m\n\u001b[1;32m   1793\u001b[0m \u001b[43m    \u001b[49m\u001b[43my\u001b[49m\u001b[38;5;241;43m=\u001b[39;49m\u001b[43mval_y\u001b[49m\u001b[43m,\u001b[49m\n\u001b[1;32m   1794\u001b[0m \u001b[43m    \u001b[49m\u001b[43msample_weight\u001b[49m\u001b[38;5;241;43m=\u001b[39;49m\u001b[43mval_sample_weight\u001b[49m\u001b[43m,\u001b[49m\n\u001b[1;32m   1795\u001b[0m \u001b[43m    \u001b[49m\u001b[43mbatch_size\u001b[49m\u001b[38;5;241;43m=\u001b[39;49m\u001b[43mvalidation_batch_size\u001b[49m\u001b[43m \u001b[49m\u001b[38;5;129;43;01mor\u001b[39;49;00m\u001b[43m \u001b[49m\u001b[43mbatch_size\u001b[49m\u001b[43m,\u001b[49m\n\u001b[1;32m   1796\u001b[0m \u001b[43m    \u001b[49m\u001b[43msteps\u001b[49m\u001b[38;5;241;43m=\u001b[39;49m\u001b[43mvalidation_steps\u001b[49m\u001b[43m,\u001b[49m\n\u001b[1;32m   1797\u001b[0m \u001b[43m    \u001b[49m\u001b[43mcallbacks\u001b[49m\u001b[38;5;241;43m=\u001b[39;49m\u001b[43mcallbacks\u001b[49m\u001b[43m,\u001b[49m\n\u001b[1;32m   1798\u001b[0m \u001b[43m    \u001b[49m\u001b[43mmax_queue_size\u001b[49m\u001b[38;5;241;43m=\u001b[39;49m\u001b[43mmax_queue_size\u001b[49m\u001b[43m,\u001b[49m\n\u001b[1;32m   1799\u001b[0m \u001b[43m    \u001b[49m\u001b[43mworkers\u001b[49m\u001b[38;5;241;43m=\u001b[39;49m\u001b[43mworkers\u001b[49m\u001b[43m,\u001b[49m\n\u001b[1;32m   1800\u001b[0m \u001b[43m    \u001b[49m\u001b[43muse_multiprocessing\u001b[49m\u001b[38;5;241;43m=\u001b[39;49m\u001b[43muse_multiprocessing\u001b[49m\u001b[43m,\u001b[49m\n\u001b[1;32m   1801\u001b[0m \u001b[43m    \u001b[49m\u001b[43mreturn_dict\u001b[49m\u001b[38;5;241;43m=\u001b[39;49m\u001b[38;5;28;43;01mTrue\u001b[39;49;00m\u001b[43m,\u001b[49m\n\u001b[1;32m   1802\u001b[0m \u001b[43m    \u001b[49m\u001b[43m_use_cached_eval_dataset\u001b[49m\u001b[38;5;241;43m=\u001b[39;49m\u001b[38;5;28;43;01mTrue\u001b[39;49;00m\u001b[43m,\u001b[49m\n\u001b[1;32m   1803\u001b[0m \u001b[43m\u001b[49m\u001b[43m)\u001b[49m\n\u001b[1;32m   1804\u001b[0m val_logs \u001b[38;5;241m=\u001b[39m {\n\u001b[1;32m   1805\u001b[0m     \u001b[38;5;124m\"\u001b[39m\u001b[38;5;124mval_\u001b[39m\u001b[38;5;124m\"\u001b[39m \u001b[38;5;241m+\u001b[39m name: val \u001b[38;5;28;01mfor\u001b[39;00m name, val \u001b[38;5;129;01min\u001b[39;00m val_logs\u001b[38;5;241m.\u001b[39mitems()\n\u001b[1;32m   1806\u001b[0m }\n\u001b[1;32m   1807\u001b[0m epoch_logs\u001b[38;5;241m.\u001b[39mupdate(val_logs)\n",
      "File \u001b[0;32m/opt/miniconda3/envs/py39/lib/python3.9/site-packages/keras/src/utils/traceback_utils.py:65\u001b[0m, in \u001b[0;36mfilter_traceback.<locals>.error_handler\u001b[0;34m(*args, **kwargs)\u001b[0m\n\u001b[1;32m     63\u001b[0m filtered_tb \u001b[38;5;241m=\u001b[39m \u001b[38;5;28;01mNone\u001b[39;00m\n\u001b[1;32m     64\u001b[0m \u001b[38;5;28;01mtry\u001b[39;00m:\n\u001b[0;32m---> 65\u001b[0m     \u001b[38;5;28;01mreturn\u001b[39;00m \u001b[43mfn\u001b[49m\u001b[43m(\u001b[49m\u001b[38;5;241;43m*\u001b[39;49m\u001b[43margs\u001b[49m\u001b[43m,\u001b[49m\u001b[43m \u001b[49m\u001b[38;5;241;43m*\u001b[39;49m\u001b[38;5;241;43m*\u001b[39;49m\u001b[43mkwargs\u001b[49m\u001b[43m)\u001b[49m\n\u001b[1;32m     66\u001b[0m \u001b[38;5;28;01mexcept\u001b[39;00m \u001b[38;5;167;01mException\u001b[39;00m \u001b[38;5;28;01mas\u001b[39;00m e:\n\u001b[1;32m     67\u001b[0m     filtered_tb \u001b[38;5;241m=\u001b[39m _process_traceback_frames(e\u001b[38;5;241m.\u001b[39m__traceback__)\n",
      "File \u001b[0;32m/opt/miniconda3/envs/py39/lib/python3.9/site-packages/keras/src/engine/training.py:2200\u001b[0m, in \u001b[0;36mModel.evaluate\u001b[0;34m(self, x, y, batch_size, verbose, sample_weight, steps, callbacks, max_queue_size, workers, use_multiprocessing, return_dict, **kwargs)\u001b[0m\n\u001b[1;32m   2196\u001b[0m             \u001b[38;5;28;01mwith\u001b[39;00m tf\u001b[38;5;241m.\u001b[39mprofiler\u001b[38;5;241m.\u001b[39mexperimental\u001b[38;5;241m.\u001b[39mTrace(\n\u001b[1;32m   2197\u001b[0m                 \u001b[38;5;124m\"\u001b[39m\u001b[38;5;124mtest\u001b[39m\u001b[38;5;124m\"\u001b[39m, step_num\u001b[38;5;241m=\u001b[39mstep, _r\u001b[38;5;241m=\u001b[39m\u001b[38;5;241m1\u001b[39m\n\u001b[1;32m   2198\u001b[0m             ):\n\u001b[1;32m   2199\u001b[0m                 callbacks\u001b[38;5;241m.\u001b[39mon_test_batch_begin(step)\n\u001b[0;32m-> 2200\u001b[0m                 logs \u001b[38;5;241m=\u001b[39m \u001b[43mtest_function_runner\u001b[49m\u001b[38;5;241;43m.\u001b[39;49m\u001b[43mrun_step\u001b[49m\u001b[43m(\u001b[49m\n\u001b[1;32m   2201\u001b[0m \u001b[43m                    \u001b[49m\u001b[43mdataset_or_iterator\u001b[49m\u001b[43m,\u001b[49m\n\u001b[1;32m   2202\u001b[0m \u001b[43m                    \u001b[49m\u001b[43mdata_handler\u001b[49m\u001b[43m,\u001b[49m\n\u001b[1;32m   2203\u001b[0m \u001b[43m                    \u001b[49m\u001b[43mstep\u001b[49m\u001b[43m,\u001b[49m\n\u001b[1;32m   2204\u001b[0m \u001b[43m                    \u001b[49m\u001b[38;5;28;43mself\u001b[39;49m\u001b[38;5;241;43m.\u001b[39;49m\u001b[43m_pss_evaluation_shards\u001b[49m\u001b[43m,\u001b[49m\n\u001b[1;32m   2205\u001b[0m \u001b[43m                \u001b[49m\u001b[43m)\u001b[49m\n\u001b[1;32m   2207\u001b[0m logs \u001b[38;5;241m=\u001b[39m tf_utils\u001b[38;5;241m.\u001b[39msync_to_numpy_or_python_type(logs)\n\u001b[1;32m   2208\u001b[0m \u001b[38;5;66;03m# Override with model metrics instead of last step logs\u001b[39;00m\n",
      "File \u001b[0;32m/opt/miniconda3/envs/py39/lib/python3.9/site-packages/keras/src/engine/training.py:4000\u001b[0m, in \u001b[0;36m_TestFunction.run_step\u001b[0;34m(self, dataset_or_iterator, data_handler, step, unused_shards)\u001b[0m\n\u001b[1;32m   3999\u001b[0m \u001b[38;5;28;01mdef\u001b[39;00m\u001b[38;5;250m \u001b[39m\u001b[38;5;21mrun_step\u001b[39m(\u001b[38;5;28mself\u001b[39m, dataset_or_iterator, data_handler, step, unused_shards):\n\u001b[0;32m-> 4000\u001b[0m     tmp_logs \u001b[38;5;241m=\u001b[39m \u001b[38;5;28;43mself\u001b[39;49m\u001b[38;5;241;43m.\u001b[39;49m\u001b[43m_function\u001b[49m\u001b[43m(\u001b[49m\u001b[43mdataset_or_iterator\u001b[49m\u001b[43m)\u001b[49m\n\u001b[1;32m   4001\u001b[0m     \u001b[38;5;28;01mif\u001b[39;00m data_handler\u001b[38;5;241m.\u001b[39mshould_sync:\n\u001b[1;32m   4002\u001b[0m         context\u001b[38;5;241m.\u001b[39masync_wait()\n",
      "File \u001b[0;32m/opt/miniconda3/envs/py39/lib/python3.9/site-packages/tensorflow/python/util/traceback_utils.py:150\u001b[0m, in \u001b[0;36mfilter_traceback.<locals>.error_handler\u001b[0;34m(*args, **kwargs)\u001b[0m\n\u001b[1;32m    148\u001b[0m filtered_tb \u001b[38;5;241m=\u001b[39m \u001b[38;5;28;01mNone\u001b[39;00m\n\u001b[1;32m    149\u001b[0m \u001b[38;5;28;01mtry\u001b[39;00m:\n\u001b[0;32m--> 150\u001b[0m   \u001b[38;5;28;01mreturn\u001b[39;00m \u001b[43mfn\u001b[49m\u001b[43m(\u001b[49m\u001b[38;5;241;43m*\u001b[39;49m\u001b[43margs\u001b[49m\u001b[43m,\u001b[49m\u001b[43m \u001b[49m\u001b[38;5;241;43m*\u001b[39;49m\u001b[38;5;241;43m*\u001b[39;49m\u001b[43mkwargs\u001b[49m\u001b[43m)\u001b[49m\n\u001b[1;32m    151\u001b[0m \u001b[38;5;28;01mexcept\u001b[39;00m \u001b[38;5;167;01mException\u001b[39;00m \u001b[38;5;28;01mas\u001b[39;00m e:\n\u001b[1;32m    152\u001b[0m   filtered_tb \u001b[38;5;241m=\u001b[39m _process_traceback_frames(e\u001b[38;5;241m.\u001b[39m__traceback__)\n",
      "File \u001b[0;32m/opt/miniconda3/envs/py39/lib/python3.9/site-packages/tensorflow/python/eager/polymorphic_function/polymorphic_function.py:825\u001b[0m, in \u001b[0;36mFunction.__call__\u001b[0;34m(self, *args, **kwds)\u001b[0m\n\u001b[1;32m    822\u001b[0m compiler \u001b[38;5;241m=\u001b[39m \u001b[38;5;124m\"\u001b[39m\u001b[38;5;124mxla\u001b[39m\u001b[38;5;124m\"\u001b[39m \u001b[38;5;28;01mif\u001b[39;00m \u001b[38;5;28mself\u001b[39m\u001b[38;5;241m.\u001b[39m_jit_compile \u001b[38;5;28;01melse\u001b[39;00m \u001b[38;5;124m\"\u001b[39m\u001b[38;5;124mnonXla\u001b[39m\u001b[38;5;124m\"\u001b[39m\n\u001b[1;32m    824\u001b[0m \u001b[38;5;28;01mwith\u001b[39;00m OptionalXlaContext(\u001b[38;5;28mself\u001b[39m\u001b[38;5;241m.\u001b[39m_jit_compile):\n\u001b[0;32m--> 825\u001b[0m   result \u001b[38;5;241m=\u001b[39m \u001b[38;5;28;43mself\u001b[39;49m\u001b[38;5;241;43m.\u001b[39;49m\u001b[43m_call\u001b[49m\u001b[43m(\u001b[49m\u001b[38;5;241;43m*\u001b[39;49m\u001b[43margs\u001b[49m\u001b[43m,\u001b[49m\u001b[43m \u001b[49m\u001b[38;5;241;43m*\u001b[39;49m\u001b[38;5;241;43m*\u001b[39;49m\u001b[43mkwds\u001b[49m\u001b[43m)\u001b[49m\n\u001b[1;32m    827\u001b[0m new_tracing_count \u001b[38;5;241m=\u001b[39m \u001b[38;5;28mself\u001b[39m\u001b[38;5;241m.\u001b[39mexperimental_get_tracing_count()\n\u001b[1;32m    828\u001b[0m without_tracing \u001b[38;5;241m=\u001b[39m (tracing_count \u001b[38;5;241m==\u001b[39m new_tracing_count)\n",
      "File \u001b[0;32m/opt/miniconda3/envs/py39/lib/python3.9/site-packages/tensorflow/python/eager/polymorphic_function/polymorphic_function.py:864\u001b[0m, in \u001b[0;36mFunction._call\u001b[0;34m(self, *args, **kwds)\u001b[0m\n\u001b[1;32m    861\u001b[0m \u001b[38;5;28mself\u001b[39m\u001b[38;5;241m.\u001b[39m_lock\u001b[38;5;241m.\u001b[39mrelease()\n\u001b[1;32m    862\u001b[0m \u001b[38;5;66;03m# In this case we have not created variables on the first call. So we can\u001b[39;00m\n\u001b[1;32m    863\u001b[0m \u001b[38;5;66;03m# run the first trace but we should fail if variables are created.\u001b[39;00m\n\u001b[0;32m--> 864\u001b[0m results \u001b[38;5;241m=\u001b[39m \u001b[38;5;28;43mself\u001b[39;49m\u001b[38;5;241;43m.\u001b[39;49m\u001b[43m_variable_creation_fn\u001b[49m\u001b[43m(\u001b[49m\u001b[38;5;241;43m*\u001b[39;49m\u001b[43margs\u001b[49m\u001b[43m,\u001b[49m\u001b[43m \u001b[49m\u001b[38;5;241;43m*\u001b[39;49m\u001b[38;5;241;43m*\u001b[39;49m\u001b[43mkwds\u001b[49m\u001b[43m)\u001b[49m\n\u001b[1;32m    865\u001b[0m \u001b[38;5;28;01mif\u001b[39;00m \u001b[38;5;28mself\u001b[39m\u001b[38;5;241m.\u001b[39m_created_variables \u001b[38;5;129;01mand\u001b[39;00m \u001b[38;5;129;01mnot\u001b[39;00m ALLOW_DYNAMIC_VARIABLE_CREATION:\n\u001b[1;32m    866\u001b[0m   \u001b[38;5;28;01mraise\u001b[39;00m \u001b[38;5;167;01mValueError\u001b[39;00m(\u001b[38;5;124m\"\u001b[39m\u001b[38;5;124mCreating variables on a non-first call to a function\u001b[39m\u001b[38;5;124m\"\u001b[39m\n\u001b[1;32m    867\u001b[0m                    \u001b[38;5;124m\"\u001b[39m\u001b[38;5;124m decorated with tf.function.\u001b[39m\u001b[38;5;124m\"\u001b[39m)\n",
      "File \u001b[0;32m/opt/miniconda3/envs/py39/lib/python3.9/site-packages/tensorflow/python/eager/polymorphic_function/tracing_compiler.py:148\u001b[0m, in \u001b[0;36mTracingCompiler.__call__\u001b[0;34m(self, *args, **kwargs)\u001b[0m\n\u001b[1;32m    145\u001b[0m \u001b[38;5;28;01mwith\u001b[39;00m \u001b[38;5;28mself\u001b[39m\u001b[38;5;241m.\u001b[39m_lock:\n\u001b[1;32m    146\u001b[0m   (concrete_function,\n\u001b[1;32m    147\u001b[0m    filtered_flat_args) \u001b[38;5;241m=\u001b[39m \u001b[38;5;28mself\u001b[39m\u001b[38;5;241m.\u001b[39m_maybe_define_function(args, kwargs)\n\u001b[0;32m--> 148\u001b[0m \u001b[38;5;28;01mreturn\u001b[39;00m \u001b[43mconcrete_function\u001b[49m\u001b[38;5;241;43m.\u001b[39;49m\u001b[43m_call_flat\u001b[49m\u001b[43m(\u001b[49m\n\u001b[1;32m    149\u001b[0m \u001b[43m    \u001b[49m\u001b[43mfiltered_flat_args\u001b[49m\u001b[43m,\u001b[49m\u001b[43m \u001b[49m\u001b[43mcaptured_inputs\u001b[49m\u001b[38;5;241;43m=\u001b[39;49m\u001b[43mconcrete_function\u001b[49m\u001b[38;5;241;43m.\u001b[39;49m\u001b[43mcaptured_inputs\u001b[49m\u001b[43m)\u001b[49m\n",
      "File \u001b[0;32m/opt/miniconda3/envs/py39/lib/python3.9/site-packages/tensorflow/python/eager/polymorphic_function/monomorphic_function.py:1349\u001b[0m, in \u001b[0;36mConcreteFunction._call_flat\u001b[0;34m(self, args, captured_inputs)\u001b[0m\n\u001b[1;32m   1345\u001b[0m possible_gradient_type \u001b[38;5;241m=\u001b[39m gradients_util\u001b[38;5;241m.\u001b[39mPossibleTapeGradientTypes(args)\n\u001b[1;32m   1346\u001b[0m \u001b[38;5;28;01mif\u001b[39;00m (possible_gradient_type \u001b[38;5;241m==\u001b[39m gradients_util\u001b[38;5;241m.\u001b[39mPOSSIBLE_GRADIENT_TYPES_NONE\n\u001b[1;32m   1347\u001b[0m     \u001b[38;5;129;01mand\u001b[39;00m executing_eagerly):\n\u001b[1;32m   1348\u001b[0m   \u001b[38;5;66;03m# No tape is watching; skip to running the function.\u001b[39;00m\n\u001b[0;32m-> 1349\u001b[0m   \u001b[38;5;28;01mreturn\u001b[39;00m \u001b[38;5;28mself\u001b[39m\u001b[38;5;241m.\u001b[39m_build_call_outputs(\u001b[38;5;28;43mself\u001b[39;49m\u001b[38;5;241;43m.\u001b[39;49m\u001b[43m_inference_function\u001b[49m\u001b[43m(\u001b[49m\u001b[38;5;241;43m*\u001b[39;49m\u001b[43margs\u001b[49m\u001b[43m)\u001b[49m)\n\u001b[1;32m   1350\u001b[0m forward_backward \u001b[38;5;241m=\u001b[39m \u001b[38;5;28mself\u001b[39m\u001b[38;5;241m.\u001b[39m_select_forward_and_backward_functions(\n\u001b[1;32m   1351\u001b[0m     args,\n\u001b[1;32m   1352\u001b[0m     possible_gradient_type,\n\u001b[1;32m   1353\u001b[0m     executing_eagerly)\n\u001b[1;32m   1354\u001b[0m forward_function, args_with_tangents \u001b[38;5;241m=\u001b[39m forward_backward\u001b[38;5;241m.\u001b[39mforward()\n",
      "File \u001b[0;32m/opt/miniconda3/envs/py39/lib/python3.9/site-packages/tensorflow/python/eager/polymorphic_function/atomic_function.py:196\u001b[0m, in \u001b[0;36mAtomicFunction.__call__\u001b[0;34m(self, *args)\u001b[0m\n\u001b[1;32m    194\u001b[0m \u001b[38;5;28;01mwith\u001b[39;00m record\u001b[38;5;241m.\u001b[39mstop_recording():\n\u001b[1;32m    195\u001b[0m   \u001b[38;5;28;01mif\u001b[39;00m \u001b[38;5;28mself\u001b[39m\u001b[38;5;241m.\u001b[39m_bound_context\u001b[38;5;241m.\u001b[39mexecuting_eagerly():\n\u001b[0;32m--> 196\u001b[0m     outputs \u001b[38;5;241m=\u001b[39m \u001b[38;5;28;43mself\u001b[39;49m\u001b[38;5;241;43m.\u001b[39;49m\u001b[43m_bound_context\u001b[49m\u001b[38;5;241;43m.\u001b[39;49m\u001b[43mcall_function\u001b[49m\u001b[43m(\u001b[49m\n\u001b[1;32m    197\u001b[0m \u001b[43m        \u001b[49m\u001b[38;5;28;43mself\u001b[39;49m\u001b[38;5;241;43m.\u001b[39;49m\u001b[43mname\u001b[49m\u001b[43m,\u001b[49m\n\u001b[1;32m    198\u001b[0m \u001b[43m        \u001b[49m\u001b[38;5;28;43mlist\u001b[39;49m\u001b[43m(\u001b[49m\u001b[43margs\u001b[49m\u001b[43m)\u001b[49m\u001b[43m,\u001b[49m\n\u001b[1;32m    199\u001b[0m \u001b[43m        \u001b[49m\u001b[38;5;28;43mlen\u001b[39;49m\u001b[43m(\u001b[49m\u001b[38;5;28;43mself\u001b[39;49m\u001b[38;5;241;43m.\u001b[39;49m\u001b[43mfunction_type\u001b[49m\u001b[38;5;241;43m.\u001b[39;49m\u001b[43mflat_outputs\u001b[49m\u001b[43m)\u001b[49m\u001b[43m,\u001b[49m\n\u001b[1;32m    200\u001b[0m \u001b[43m    \u001b[49m\u001b[43m)\u001b[49m\n\u001b[1;32m    201\u001b[0m   \u001b[38;5;28;01melse\u001b[39;00m:\n\u001b[1;32m    202\u001b[0m     outputs \u001b[38;5;241m=\u001b[39m make_call_op_in_graph(\u001b[38;5;28mself\u001b[39m, \u001b[38;5;28mlist\u001b[39m(args))\n",
      "File \u001b[0;32m/opt/miniconda3/envs/py39/lib/python3.9/site-packages/tensorflow/python/eager/context.py:1457\u001b[0m, in \u001b[0;36mContext.call_function\u001b[0;34m(self, name, tensor_inputs, num_outputs)\u001b[0m\n\u001b[1;32m   1455\u001b[0m cancellation_context \u001b[38;5;241m=\u001b[39m cancellation\u001b[38;5;241m.\u001b[39mcontext()\n\u001b[1;32m   1456\u001b[0m \u001b[38;5;28;01mif\u001b[39;00m cancellation_context \u001b[38;5;129;01mis\u001b[39;00m \u001b[38;5;28;01mNone\u001b[39;00m:\n\u001b[0;32m-> 1457\u001b[0m   outputs \u001b[38;5;241m=\u001b[39m \u001b[43mexecute\u001b[49m\u001b[38;5;241;43m.\u001b[39;49m\u001b[43mexecute\u001b[49m\u001b[43m(\u001b[49m\n\u001b[1;32m   1458\u001b[0m \u001b[43m      \u001b[49m\u001b[43mname\u001b[49m\u001b[38;5;241;43m.\u001b[39;49m\u001b[43mdecode\u001b[49m\u001b[43m(\u001b[49m\u001b[38;5;124;43m\"\u001b[39;49m\u001b[38;5;124;43mutf-8\u001b[39;49m\u001b[38;5;124;43m\"\u001b[39;49m\u001b[43m)\u001b[49m\u001b[43m,\u001b[49m\n\u001b[1;32m   1459\u001b[0m \u001b[43m      \u001b[49m\u001b[43mnum_outputs\u001b[49m\u001b[38;5;241;43m=\u001b[39;49m\u001b[43mnum_outputs\u001b[49m\u001b[43m,\u001b[49m\n\u001b[1;32m   1460\u001b[0m \u001b[43m      \u001b[49m\u001b[43minputs\u001b[49m\u001b[38;5;241;43m=\u001b[39;49m\u001b[43mtensor_inputs\u001b[49m\u001b[43m,\u001b[49m\n\u001b[1;32m   1461\u001b[0m \u001b[43m      \u001b[49m\u001b[43mattrs\u001b[49m\u001b[38;5;241;43m=\u001b[39;49m\u001b[43mattrs\u001b[49m\u001b[43m,\u001b[49m\n\u001b[1;32m   1462\u001b[0m \u001b[43m      \u001b[49m\u001b[43mctx\u001b[49m\u001b[38;5;241;43m=\u001b[39;49m\u001b[38;5;28;43mself\u001b[39;49m\u001b[43m,\u001b[49m\n\u001b[1;32m   1463\u001b[0m \u001b[43m  \u001b[49m\u001b[43m)\u001b[49m\n\u001b[1;32m   1464\u001b[0m \u001b[38;5;28;01melse\u001b[39;00m:\n\u001b[1;32m   1465\u001b[0m   outputs \u001b[38;5;241m=\u001b[39m execute\u001b[38;5;241m.\u001b[39mexecute_with_cancellation(\n\u001b[1;32m   1466\u001b[0m       name\u001b[38;5;241m.\u001b[39mdecode(\u001b[38;5;124m\"\u001b[39m\u001b[38;5;124mutf-8\u001b[39m\u001b[38;5;124m\"\u001b[39m),\n\u001b[1;32m   1467\u001b[0m       num_outputs\u001b[38;5;241m=\u001b[39mnum_outputs,\n\u001b[0;32m   (...)\u001b[0m\n\u001b[1;32m   1471\u001b[0m       cancellation_manager\u001b[38;5;241m=\u001b[39mcancellation_context,\n\u001b[1;32m   1472\u001b[0m   )\n",
      "File \u001b[0;32m/opt/miniconda3/envs/py39/lib/python3.9/site-packages/tensorflow/python/eager/execute.py:53\u001b[0m, in \u001b[0;36mquick_execute\u001b[0;34m(op_name, num_outputs, inputs, attrs, ctx, name)\u001b[0m\n\u001b[1;32m     51\u001b[0m \u001b[38;5;28;01mtry\u001b[39;00m:\n\u001b[1;32m     52\u001b[0m   ctx\u001b[38;5;241m.\u001b[39mensure_initialized()\n\u001b[0;32m---> 53\u001b[0m   tensors \u001b[38;5;241m=\u001b[39m \u001b[43mpywrap_tfe\u001b[49m\u001b[38;5;241;43m.\u001b[39;49m\u001b[43mTFE_Py_Execute\u001b[49m\u001b[43m(\u001b[49m\u001b[43mctx\u001b[49m\u001b[38;5;241;43m.\u001b[39;49m\u001b[43m_handle\u001b[49m\u001b[43m,\u001b[49m\u001b[43m \u001b[49m\u001b[43mdevice_name\u001b[49m\u001b[43m,\u001b[49m\u001b[43m \u001b[49m\u001b[43mop_name\u001b[49m\u001b[43m,\u001b[49m\n\u001b[1;32m     54\u001b[0m \u001b[43m                                      \u001b[49m\u001b[43minputs\u001b[49m\u001b[43m,\u001b[49m\u001b[43m \u001b[49m\u001b[43mattrs\u001b[49m\u001b[43m,\u001b[49m\u001b[43m \u001b[49m\u001b[43mnum_outputs\u001b[49m\u001b[43m)\u001b[49m\n\u001b[1;32m     55\u001b[0m \u001b[38;5;28;01mexcept\u001b[39;00m core\u001b[38;5;241m.\u001b[39m_NotOkStatusException \u001b[38;5;28;01mas\u001b[39;00m e:\n\u001b[1;32m     56\u001b[0m   \u001b[38;5;28;01mif\u001b[39;00m name \u001b[38;5;129;01mis\u001b[39;00m \u001b[38;5;129;01mnot\u001b[39;00m \u001b[38;5;28;01mNone\u001b[39;00m:\n",
      "\u001b[0;31mKeyboardInterrupt\u001b[0m: "
     ]
    }
   ],
   "source": [
    "# Handle missing values for market price prediction and fill missing with 0\n",
    "from sklearn.preprocessing import StandardScaler\n",
    "\n",
    "\n",
    "dnn_market = build_market_model()\n",
    "dnn_market.fit(X_train, y_market_train, epochs=15, batch_size=512, validation_data=(X_val, y_market_val))\n",
    "dnn_market.save(\"/Users/adityarajtandon/Documents/RTB_MODEL/models/dnn_market_model.h5\")\n"
   ]
  },
  {
   "cell_type": "code",
   "execution_count": null,
   "metadata": {},
   "outputs": [],
   "source": []
  }
 ],
 "metadata": {
  "kernelspec": {
   "display_name": "py39",
   "language": "python",
   "name": "python3"
  },
  "language_info": {
   "codemirror_mode": {
    "name": "ipython",
    "version": 3
   },
   "file_extension": ".py",
   "mimetype": "text/x-python",
   "name": "python",
   "nbconvert_exporter": "python",
   "pygments_lexer": "ipython3",
   "version": "3.9.21"
  }
 },
 "nbformat": 4,
 "nbformat_minor": 2
}
